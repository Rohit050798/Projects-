{
  "nbformat": 4,
  "nbformat_minor": 0,
  "metadata": {
    "colab": {
      "provenance": [],
      "authorship_tag": "ABX9TyNctG5V31QrABHH1nSaqylU",
      "include_colab_link": true
    },
    "kernelspec": {
      "name": "python3",
      "display_name": "Python 3"
    },
    "language_info": {
      "name": "python"
    }
  },
  "cells": [
    {
      "cell_type": "markdown",
      "metadata": {
        "id": "view-in-github",
        "colab_type": "text"
      },
      "source": [
        "<a href=\"https://colab.research.google.com/github/Rohit050798/Projects-/blob/main/RNN.ipynb\" target=\"_parent\"><img src=\"https://colab.research.google.com/assets/colab-badge.svg\" alt=\"Open In Colab\"/></a>"
      ]
    },
    {
      "cell_type": "code",
      "execution_count": 1,
      "metadata": {
        "colab": {
          "base_uri": "https://localhost:8080/",
          "height": 177
        },
        "id": "oUOzN2a33BdY",
        "outputId": "81ea4b5f-6b31-4105-de8d-66daf51d9ad2"
      },
      "outputs": [
        {
          "output_type": "display_data",
          "data": {
            "text/plain": [
              "<IPython.core.display.HTML object>"
            ],
            "text/html": [
              "\n",
              "     <input type=\"file\" id=\"files-a4ebae3f-7881-45bd-8e5a-e7f58420ce72\" name=\"files[]\" multiple disabled\n",
              "        style=\"border:none\" />\n",
              "     <output id=\"result-a4ebae3f-7881-45bd-8e5a-e7f58420ce72\">\n",
              "      Upload widget is only available when the cell has been executed in the\n",
              "      current browser session. Please rerun this cell to enable.\n",
              "      </output>\n",
              "      <script>// Copyright 2017 Google LLC\n",
              "//\n",
              "// Licensed under the Apache License, Version 2.0 (the \"License\");\n",
              "// you may not use this file except in compliance with the License.\n",
              "// You may obtain a copy of the License at\n",
              "//\n",
              "//      http://www.apache.org/licenses/LICENSE-2.0\n",
              "//\n",
              "// Unless required by applicable law or agreed to in writing, software\n",
              "// distributed under the License is distributed on an \"AS IS\" BASIS,\n",
              "// WITHOUT WARRANTIES OR CONDITIONS OF ANY KIND, either express or implied.\n",
              "// See the License for the specific language governing permissions and\n",
              "// limitations under the License.\n",
              "\n",
              "/**\n",
              " * @fileoverview Helpers for google.colab Python module.\n",
              " */\n",
              "(function(scope) {\n",
              "function span(text, styleAttributes = {}) {\n",
              "  const element = document.createElement('span');\n",
              "  element.textContent = text;\n",
              "  for (const key of Object.keys(styleAttributes)) {\n",
              "    element.style[key] = styleAttributes[key];\n",
              "  }\n",
              "  return element;\n",
              "}\n",
              "\n",
              "// Max number of bytes which will be uploaded at a time.\n",
              "const MAX_PAYLOAD_SIZE = 100 * 1024;\n",
              "\n",
              "function _uploadFiles(inputId, outputId) {\n",
              "  const steps = uploadFilesStep(inputId, outputId);\n",
              "  const outputElement = document.getElementById(outputId);\n",
              "  // Cache steps on the outputElement to make it available for the next call\n",
              "  // to uploadFilesContinue from Python.\n",
              "  outputElement.steps = steps;\n",
              "\n",
              "  return _uploadFilesContinue(outputId);\n",
              "}\n",
              "\n",
              "// This is roughly an async generator (not supported in the browser yet),\n",
              "// where there are multiple asynchronous steps and the Python side is going\n",
              "// to poll for completion of each step.\n",
              "// This uses a Promise to block the python side on completion of each step,\n",
              "// then passes the result of the previous step as the input to the next step.\n",
              "function _uploadFilesContinue(outputId) {\n",
              "  const outputElement = document.getElementById(outputId);\n",
              "  const steps = outputElement.steps;\n",
              "\n",
              "  const next = steps.next(outputElement.lastPromiseValue);\n",
              "  return Promise.resolve(next.value.promise).then((value) => {\n",
              "    // Cache the last promise value to make it available to the next\n",
              "    // step of the generator.\n",
              "    outputElement.lastPromiseValue = value;\n",
              "    return next.value.response;\n",
              "  });\n",
              "}\n",
              "\n",
              "/**\n",
              " * Generator function which is called between each async step of the upload\n",
              " * process.\n",
              " * @param {string} inputId Element ID of the input file picker element.\n",
              " * @param {string} outputId Element ID of the output display.\n",
              " * @return {!Iterable<!Object>} Iterable of next steps.\n",
              " */\n",
              "function* uploadFilesStep(inputId, outputId) {\n",
              "  const inputElement = document.getElementById(inputId);\n",
              "  inputElement.disabled = false;\n",
              "\n",
              "  const outputElement = document.getElementById(outputId);\n",
              "  outputElement.innerHTML = '';\n",
              "\n",
              "  const pickedPromise = new Promise((resolve) => {\n",
              "    inputElement.addEventListener('change', (e) => {\n",
              "      resolve(e.target.files);\n",
              "    });\n",
              "  });\n",
              "\n",
              "  const cancel = document.createElement('button');\n",
              "  inputElement.parentElement.appendChild(cancel);\n",
              "  cancel.textContent = 'Cancel upload';\n",
              "  const cancelPromise = new Promise((resolve) => {\n",
              "    cancel.onclick = () => {\n",
              "      resolve(null);\n",
              "    };\n",
              "  });\n",
              "\n",
              "  // Wait for the user to pick the files.\n",
              "  const files = yield {\n",
              "    promise: Promise.race([pickedPromise, cancelPromise]),\n",
              "    response: {\n",
              "      action: 'starting',\n",
              "    }\n",
              "  };\n",
              "\n",
              "  cancel.remove();\n",
              "\n",
              "  // Disable the input element since further picks are not allowed.\n",
              "  inputElement.disabled = true;\n",
              "\n",
              "  if (!files) {\n",
              "    return {\n",
              "      response: {\n",
              "        action: 'complete',\n",
              "      }\n",
              "    };\n",
              "  }\n",
              "\n",
              "  for (const file of files) {\n",
              "    const li = document.createElement('li');\n",
              "    li.append(span(file.name, {fontWeight: 'bold'}));\n",
              "    li.append(span(\n",
              "        `(${file.type || 'n/a'}) - ${file.size} bytes, ` +\n",
              "        `last modified: ${\n",
              "            file.lastModifiedDate ? file.lastModifiedDate.toLocaleDateString() :\n",
              "                                    'n/a'} - `));\n",
              "    const percent = span('0% done');\n",
              "    li.appendChild(percent);\n",
              "\n",
              "    outputElement.appendChild(li);\n",
              "\n",
              "    const fileDataPromise = new Promise((resolve) => {\n",
              "      const reader = new FileReader();\n",
              "      reader.onload = (e) => {\n",
              "        resolve(e.target.result);\n",
              "      };\n",
              "      reader.readAsArrayBuffer(file);\n",
              "    });\n",
              "    // Wait for the data to be ready.\n",
              "    let fileData = yield {\n",
              "      promise: fileDataPromise,\n",
              "      response: {\n",
              "        action: 'continue',\n",
              "      }\n",
              "    };\n",
              "\n",
              "    // Use a chunked sending to avoid message size limits. See b/62115660.\n",
              "    let position = 0;\n",
              "    do {\n",
              "      const length = Math.min(fileData.byteLength - position, MAX_PAYLOAD_SIZE);\n",
              "      const chunk = new Uint8Array(fileData, position, length);\n",
              "      position += length;\n",
              "\n",
              "      const base64 = btoa(String.fromCharCode.apply(null, chunk));\n",
              "      yield {\n",
              "        response: {\n",
              "          action: 'append',\n",
              "          file: file.name,\n",
              "          data: base64,\n",
              "        },\n",
              "      };\n",
              "\n",
              "      let percentDone = fileData.byteLength === 0 ?\n",
              "          100 :\n",
              "          Math.round((position / fileData.byteLength) * 100);\n",
              "      percent.textContent = `${percentDone}% done`;\n",
              "\n",
              "    } while (position < fileData.byteLength);\n",
              "  }\n",
              "\n",
              "  // All done.\n",
              "  yield {\n",
              "    response: {\n",
              "      action: 'complete',\n",
              "    }\n",
              "  };\n",
              "}\n",
              "\n",
              "scope.google = scope.google || {};\n",
              "scope.google.colab = scope.google.colab || {};\n",
              "scope.google.colab._files = {\n",
              "  _uploadFiles,\n",
              "  _uploadFilesContinue,\n",
              "};\n",
              "})(self);\n",
              "</script> "
            ]
          },
          "metadata": {}
        },
        {
          "output_type": "stream",
          "name": "stdout",
          "text": [
            "Saving Tesla.csv to Tesla.csv\n",
            "        Date       Open   High        Low      Close    Volume  Adj Close\n",
            "0  6/29/2010  19.000000  25.00  17.540001  23.889999  18766300  23.889999\n",
            "1  6/30/2010  25.790001  30.42  23.299999  23.830000  17187100  23.830000\n",
            "2   7/1/2010  25.000000  25.92  20.270000  21.959999   8218800  21.959999\n",
            "3   7/2/2010  23.000000  23.10  18.709999  19.200001   5139800  19.200001\n",
            "4   7/6/2010  20.000000  20.00  15.830000  16.110001   6866900  16.110001\n"
          ]
        }
      ],
      "source": [
        "from google.colab import files\n",
        "import pandas as pd  #data processing\n",
        "import io \n",
        "uploaded = files.upload()\n",
        "df=pd.read_csv(io.BytesIO(uploaded['Tesla.csv']))\n",
        "print (df.head())"
      ]
    },
    {
      "cell_type": "code",
      "source": [
        "import numpy as np\n",
        "import pandas as pd\n",
        "import matplotlib.pyplot as plt\n",
        "import warnings\n",
        "warnings.filterwarnings(\"ignore\")"
      ],
      "metadata": {
        "id": "5deSir453QTx"
      },
      "execution_count": 2,
      "outputs": []
    },
    {
      "cell_type": "code",
      "source": [
        "len(df)/360"
      ],
      "metadata": {
        "colab": {
          "base_uri": "https://localhost:8080/"
        },
        "id": "CtMFa_9T4DEX",
        "outputId": "a1467dad-85d7-4c5c-de0a-9db099f4539d"
      },
      "execution_count": 3,
      "outputs": [
        {
          "output_type": "execute_result",
          "data": {
            "text/plain": [
              "4.7"
            ]
          },
          "metadata": {},
          "execution_count": 3
        }
      ]
    },
    {
      "cell_type": "code",
      "source": [
        "df.tail()"
      ],
      "metadata": {
        "colab": {
          "base_uri": "https://localhost:8080/",
          "height": 206
        },
        "id": "yPdJUiQ66b6g",
        "outputId": "44c6fdb7-6d6d-4dea-ec8a-3db568f567c7"
      },
      "execution_count": 4,
      "outputs": [
        {
          "output_type": "execute_result",
          "data": {
            "text/plain": [
              "           Date        Open        High         Low       Close   Volume  \\\n",
              "1687  3/13/2017  244.820007  246.850006  242.779999  246.169998  3010700   \n",
              "1688  3/14/2017  246.110001  258.119995  246.020004  258.000000  7575500   \n",
              "1689  3/15/2017  257.000000  261.000000  254.270004  255.729996  4816600   \n",
              "1690  3/16/2017  262.399994  265.750000  259.059998  262.049988  7100400   \n",
              "1691  3/17/2017  264.000000  265.329987  261.200012  261.500000  6475900   \n",
              "\n",
              "       Adj Close  \n",
              "1687  246.169998  \n",
              "1688  258.000000  \n",
              "1689  255.729996  \n",
              "1690  262.049988  \n",
              "1691  261.500000  "
            ],
            "text/html": [
              "\n",
              "  <div id=\"df-fa06bf37-e702-42fb-8049-a2d1d5f8998f\">\n",
              "    <div class=\"colab-df-container\">\n",
              "      <div>\n",
              "<style scoped>\n",
              "    .dataframe tbody tr th:only-of-type {\n",
              "        vertical-align: middle;\n",
              "    }\n",
              "\n",
              "    .dataframe tbody tr th {\n",
              "        vertical-align: top;\n",
              "    }\n",
              "\n",
              "    .dataframe thead th {\n",
              "        text-align: right;\n",
              "    }\n",
              "</style>\n",
              "<table border=\"1\" class=\"dataframe\">\n",
              "  <thead>\n",
              "    <tr style=\"text-align: right;\">\n",
              "      <th></th>\n",
              "      <th>Date</th>\n",
              "      <th>Open</th>\n",
              "      <th>High</th>\n",
              "      <th>Low</th>\n",
              "      <th>Close</th>\n",
              "      <th>Volume</th>\n",
              "      <th>Adj Close</th>\n",
              "    </tr>\n",
              "  </thead>\n",
              "  <tbody>\n",
              "    <tr>\n",
              "      <th>1687</th>\n",
              "      <td>3/13/2017</td>\n",
              "      <td>244.820007</td>\n",
              "      <td>246.850006</td>\n",
              "      <td>242.779999</td>\n",
              "      <td>246.169998</td>\n",
              "      <td>3010700</td>\n",
              "      <td>246.169998</td>\n",
              "    </tr>\n",
              "    <tr>\n",
              "      <th>1688</th>\n",
              "      <td>3/14/2017</td>\n",
              "      <td>246.110001</td>\n",
              "      <td>258.119995</td>\n",
              "      <td>246.020004</td>\n",
              "      <td>258.000000</td>\n",
              "      <td>7575500</td>\n",
              "      <td>258.000000</td>\n",
              "    </tr>\n",
              "    <tr>\n",
              "      <th>1689</th>\n",
              "      <td>3/15/2017</td>\n",
              "      <td>257.000000</td>\n",
              "      <td>261.000000</td>\n",
              "      <td>254.270004</td>\n",
              "      <td>255.729996</td>\n",
              "      <td>4816600</td>\n",
              "      <td>255.729996</td>\n",
              "    </tr>\n",
              "    <tr>\n",
              "      <th>1690</th>\n",
              "      <td>3/16/2017</td>\n",
              "      <td>262.399994</td>\n",
              "      <td>265.750000</td>\n",
              "      <td>259.059998</td>\n",
              "      <td>262.049988</td>\n",
              "      <td>7100400</td>\n",
              "      <td>262.049988</td>\n",
              "    </tr>\n",
              "    <tr>\n",
              "      <th>1691</th>\n",
              "      <td>3/17/2017</td>\n",
              "      <td>264.000000</td>\n",
              "      <td>265.329987</td>\n",
              "      <td>261.200012</td>\n",
              "      <td>261.500000</td>\n",
              "      <td>6475900</td>\n",
              "      <td>261.500000</td>\n",
              "    </tr>\n",
              "  </tbody>\n",
              "</table>\n",
              "</div>\n",
              "      <button class=\"colab-df-convert\" onclick=\"convertToInteractive('df-fa06bf37-e702-42fb-8049-a2d1d5f8998f')\"\n",
              "              title=\"Convert this dataframe to an interactive table.\"\n",
              "              style=\"display:none;\">\n",
              "        \n",
              "  <svg xmlns=\"http://www.w3.org/2000/svg\" height=\"24px\"viewBox=\"0 0 24 24\"\n",
              "       width=\"24px\">\n",
              "    <path d=\"M0 0h24v24H0V0z\" fill=\"none\"/>\n",
              "    <path d=\"M18.56 5.44l.94 2.06.94-2.06 2.06-.94-2.06-.94-.94-2.06-.94 2.06-2.06.94zm-11 1L8.5 8.5l.94-2.06 2.06-.94-2.06-.94L8.5 2.5l-.94 2.06-2.06.94zm10 10l.94 2.06.94-2.06 2.06-.94-2.06-.94-.94-2.06-.94 2.06-2.06.94z\"/><path d=\"M17.41 7.96l-1.37-1.37c-.4-.4-.92-.59-1.43-.59-.52 0-1.04.2-1.43.59L10.3 9.45l-7.72 7.72c-.78.78-.78 2.05 0 2.83L4 21.41c.39.39.9.59 1.41.59.51 0 1.02-.2 1.41-.59l7.78-7.78 2.81-2.81c.8-.78.8-2.07 0-2.86zM5.41 20L4 18.59l7.72-7.72 1.47 1.35L5.41 20z\"/>\n",
              "  </svg>\n",
              "      </button>\n",
              "      \n",
              "  <style>\n",
              "    .colab-df-container {\n",
              "      display:flex;\n",
              "      flex-wrap:wrap;\n",
              "      gap: 12px;\n",
              "    }\n",
              "\n",
              "    .colab-df-convert {\n",
              "      background-color: #E8F0FE;\n",
              "      border: none;\n",
              "      border-radius: 50%;\n",
              "      cursor: pointer;\n",
              "      display: none;\n",
              "      fill: #1967D2;\n",
              "      height: 32px;\n",
              "      padding: 0 0 0 0;\n",
              "      width: 32px;\n",
              "    }\n",
              "\n",
              "    .colab-df-convert:hover {\n",
              "      background-color: #E2EBFA;\n",
              "      box-shadow: 0px 1px 2px rgba(60, 64, 67, 0.3), 0px 1px 3px 1px rgba(60, 64, 67, 0.15);\n",
              "      fill: #174EA6;\n",
              "    }\n",
              "\n",
              "    [theme=dark] .colab-df-convert {\n",
              "      background-color: #3B4455;\n",
              "      fill: #D2E3FC;\n",
              "    }\n",
              "\n",
              "    [theme=dark] .colab-df-convert:hover {\n",
              "      background-color: #434B5C;\n",
              "      box-shadow: 0px 1px 3px 1px rgba(0, 0, 0, 0.15);\n",
              "      filter: drop-shadow(0px 1px 2px rgba(0, 0, 0, 0.3));\n",
              "      fill: #FFFFFF;\n",
              "    }\n",
              "  </style>\n",
              "\n",
              "      <script>\n",
              "        const buttonEl =\n",
              "          document.querySelector('#df-fa06bf37-e702-42fb-8049-a2d1d5f8998f button.colab-df-convert');\n",
              "        buttonEl.style.display =\n",
              "          google.colab.kernel.accessAllowed ? 'block' : 'none';\n",
              "\n",
              "        async function convertToInteractive(key) {\n",
              "          const element = document.querySelector('#df-fa06bf37-e702-42fb-8049-a2d1d5f8998f');\n",
              "          const dataTable =\n",
              "            await google.colab.kernel.invokeFunction('convertToInteractive',\n",
              "                                                     [key], {});\n",
              "          if (!dataTable) return;\n",
              "\n",
              "          const docLinkHtml = 'Like what you see? Visit the ' +\n",
              "            '<a target=\"_blank\" href=https://colab.research.google.com/notebooks/data_table.ipynb>data table notebook</a>'\n",
              "            + ' to learn more about interactive tables.';\n",
              "          element.innerHTML = '';\n",
              "          dataTable['output_type'] = 'display_data';\n",
              "          await google.colab.output.renderOutput(dataTable, element);\n",
              "          const docLink = document.createElement('div');\n",
              "          docLink.innerHTML = docLinkHtml;\n",
              "          element.appendChild(docLink);\n",
              "        }\n",
              "      </script>\n",
              "    </div>\n",
              "  </div>\n",
              "  "
            ]
          },
          "metadata": {},
          "execution_count": 4
        }
      ]
    },
    {
      "cell_type": "code",
      "source": [
        "df.isnull().sum()"
      ],
      "metadata": {
        "colab": {
          "base_uri": "https://localhost:8080/"
        },
        "id": "pEHZ2LLW6iop",
        "outputId": "b8f8833a-a804-4b7a-8c71-10541c6240c8"
      },
      "execution_count": 5,
      "outputs": [
        {
          "output_type": "execute_result",
          "data": {
            "text/plain": [
              "Date         0\n",
              "Open         0\n",
              "High         0\n",
              "Low          0\n",
              "Close        0\n",
              "Volume       0\n",
              "Adj Close    0\n",
              "dtype: int64"
            ]
          },
          "metadata": {},
          "execution_count": 5
        }
      ]
    },
    {
      "cell_type": "code",
      "source": [
        "df.info()"
      ],
      "metadata": {
        "colab": {
          "base_uri": "https://localhost:8080/"
        },
        "id": "hZ-kV4-_67HQ",
        "outputId": "9ce2df9f-afe3-41e3-b197-d675b2b625b6"
      },
      "execution_count": 6,
      "outputs": [
        {
          "output_type": "stream",
          "name": "stdout",
          "text": [
            "<class 'pandas.core.frame.DataFrame'>\n",
            "RangeIndex: 1692 entries, 0 to 1691\n",
            "Data columns (total 7 columns):\n",
            " #   Column     Non-Null Count  Dtype  \n",
            "---  ------     --------------  -----  \n",
            " 0   Date       1692 non-null   object \n",
            " 1   Open       1692 non-null   float64\n",
            " 2   High       1692 non-null   float64\n",
            " 3   Low        1692 non-null   float64\n",
            " 4   Close      1692 non-null   float64\n",
            " 5   Volume     1692 non-null   int64  \n",
            " 6   Adj Close  1692 non-null   float64\n",
            "dtypes: float64(5), int64(1), object(1)\n",
            "memory usage: 92.7+ KB\n"
          ]
        }
      ]
    },
    {
      "cell_type": "code",
      "source": [
        "##train test validation split of data"
      ],
      "metadata": {
        "id": "2NXmP_YE8EEu"
      },
      "execution_count": 7,
      "outputs": []
    },
    {
      "cell_type": "code",
      "source": [
        "length_data= len(df)\n",
        "split_ratio=0.7 #0.7=70% data goes for training and 30% will be used for validation (testing)\n",
        "length_train = round(length_data*split_ratio)\n",
        "length_validation = length_data- length_train\n",
        "print(\"*****************************************\")\n",
        "print(\"Total length\",length_data)\n",
        "print(\"tarining length\",length_train)\n",
        "print(\"validation length\",length_validation)\n",
        "print(\"*****************************************\")"
      ],
      "metadata": {
        "colab": {
          "base_uri": "https://localhost:8080/"
        },
        "id": "FjI80eZn6-7x",
        "outputId": "37431f12-19fe-4c6a-9ce4-50efc485147e"
      },
      "execution_count": 8,
      "outputs": [
        {
          "output_type": "stream",
          "name": "stdout",
          "text": [
            "*****************************************\n",
            "Total length 1692\n",
            "tarining length 1184\n",
            "validation length 508\n",
            "*****************************************\n"
          ]
        }
      ]
    },
    {
      "cell_type": "code",
      "source": [
        "int(len(df)*0.7)"
      ],
      "metadata": {
        "colab": {
          "base_uri": "https://localhost:8080/"
        },
        "id": "ApMyNVth8iSK",
        "outputId": "b1f8285f-8adc-4b00-8b0f-1cf8dd6b7557"
      },
      "execution_count": 9,
      "outputs": [
        {
          "output_type": "execute_result",
          "data": {
            "text/plain": [
              "1184"
            ]
          },
          "metadata": {},
          "execution_count": 9
        }
      ]
    },
    {
      "cell_type": "code",
      "source": [
        "train_data= df[:length_train].iloc[:,:2]\n",
        "train_data['Date']=pd.to_datetime(train_data[\"Date\"])\n",
        "train_data"
      ],
      "metadata": {
        "colab": {
          "base_uri": "https://localhost:8080/",
          "height": 423
        },
        "id": "fEMbOG9s9Gg1",
        "outputId": "90226e5b-a91c-4b79-e5be-50cbc0ba5890"
      },
      "execution_count": 10,
      "outputs": [
        {
          "output_type": "execute_result",
          "data": {
            "text/plain": [
              "           Date        Open\n",
              "0    2010-06-29   19.000000\n",
              "1    2010-06-30   25.790001\n",
              "2    2010-07-01   25.000000\n",
              "3    2010-07-02   23.000000\n",
              "4    2010-07-06   20.000000\n",
              "...         ...         ...\n",
              "1179 2015-03-06  199.210007\n",
              "1180 2015-03-09  194.389999\n",
              "1181 2015-03-10  188.460007\n",
              "1182 2015-03-11  191.149994\n",
              "1183 2015-03-12  193.750000\n",
              "\n",
              "[1184 rows x 2 columns]"
            ],
            "text/html": [
              "\n",
              "  <div id=\"df-189e5a03-f5af-40bc-af13-8cc210edf8d4\">\n",
              "    <div class=\"colab-df-container\">\n",
              "      <div>\n",
              "<style scoped>\n",
              "    .dataframe tbody tr th:only-of-type {\n",
              "        vertical-align: middle;\n",
              "    }\n",
              "\n",
              "    .dataframe tbody tr th {\n",
              "        vertical-align: top;\n",
              "    }\n",
              "\n",
              "    .dataframe thead th {\n",
              "        text-align: right;\n",
              "    }\n",
              "</style>\n",
              "<table border=\"1\" class=\"dataframe\">\n",
              "  <thead>\n",
              "    <tr style=\"text-align: right;\">\n",
              "      <th></th>\n",
              "      <th>Date</th>\n",
              "      <th>Open</th>\n",
              "    </tr>\n",
              "  </thead>\n",
              "  <tbody>\n",
              "    <tr>\n",
              "      <th>0</th>\n",
              "      <td>2010-06-29</td>\n",
              "      <td>19.000000</td>\n",
              "    </tr>\n",
              "    <tr>\n",
              "      <th>1</th>\n",
              "      <td>2010-06-30</td>\n",
              "      <td>25.790001</td>\n",
              "    </tr>\n",
              "    <tr>\n",
              "      <th>2</th>\n",
              "      <td>2010-07-01</td>\n",
              "      <td>25.000000</td>\n",
              "    </tr>\n",
              "    <tr>\n",
              "      <th>3</th>\n",
              "      <td>2010-07-02</td>\n",
              "      <td>23.000000</td>\n",
              "    </tr>\n",
              "    <tr>\n",
              "      <th>4</th>\n",
              "      <td>2010-07-06</td>\n",
              "      <td>20.000000</td>\n",
              "    </tr>\n",
              "    <tr>\n",
              "      <th>...</th>\n",
              "      <td>...</td>\n",
              "      <td>...</td>\n",
              "    </tr>\n",
              "    <tr>\n",
              "      <th>1179</th>\n",
              "      <td>2015-03-06</td>\n",
              "      <td>199.210007</td>\n",
              "    </tr>\n",
              "    <tr>\n",
              "      <th>1180</th>\n",
              "      <td>2015-03-09</td>\n",
              "      <td>194.389999</td>\n",
              "    </tr>\n",
              "    <tr>\n",
              "      <th>1181</th>\n",
              "      <td>2015-03-10</td>\n",
              "      <td>188.460007</td>\n",
              "    </tr>\n",
              "    <tr>\n",
              "      <th>1182</th>\n",
              "      <td>2015-03-11</td>\n",
              "      <td>191.149994</td>\n",
              "    </tr>\n",
              "    <tr>\n",
              "      <th>1183</th>\n",
              "      <td>2015-03-12</td>\n",
              "      <td>193.750000</td>\n",
              "    </tr>\n",
              "  </tbody>\n",
              "</table>\n",
              "<p>1184 rows × 2 columns</p>\n",
              "</div>\n",
              "      <button class=\"colab-df-convert\" onclick=\"convertToInteractive('df-189e5a03-f5af-40bc-af13-8cc210edf8d4')\"\n",
              "              title=\"Convert this dataframe to an interactive table.\"\n",
              "              style=\"display:none;\">\n",
              "        \n",
              "  <svg xmlns=\"http://www.w3.org/2000/svg\" height=\"24px\"viewBox=\"0 0 24 24\"\n",
              "       width=\"24px\">\n",
              "    <path d=\"M0 0h24v24H0V0z\" fill=\"none\"/>\n",
              "    <path d=\"M18.56 5.44l.94 2.06.94-2.06 2.06-.94-2.06-.94-.94-2.06-.94 2.06-2.06.94zm-11 1L8.5 8.5l.94-2.06 2.06-.94-2.06-.94L8.5 2.5l-.94 2.06-2.06.94zm10 10l.94 2.06.94-2.06 2.06-.94-2.06-.94-.94-2.06-.94 2.06-2.06.94z\"/><path d=\"M17.41 7.96l-1.37-1.37c-.4-.4-.92-.59-1.43-.59-.52 0-1.04.2-1.43.59L10.3 9.45l-7.72 7.72c-.78.78-.78 2.05 0 2.83L4 21.41c.39.39.9.59 1.41.59.51 0 1.02-.2 1.41-.59l7.78-7.78 2.81-2.81c.8-.78.8-2.07 0-2.86zM5.41 20L4 18.59l7.72-7.72 1.47 1.35L5.41 20z\"/>\n",
              "  </svg>\n",
              "      </button>\n",
              "      \n",
              "  <style>\n",
              "    .colab-df-container {\n",
              "      display:flex;\n",
              "      flex-wrap:wrap;\n",
              "      gap: 12px;\n",
              "    }\n",
              "\n",
              "    .colab-df-convert {\n",
              "      background-color: #E8F0FE;\n",
              "      border: none;\n",
              "      border-radius: 50%;\n",
              "      cursor: pointer;\n",
              "      display: none;\n",
              "      fill: #1967D2;\n",
              "      height: 32px;\n",
              "      padding: 0 0 0 0;\n",
              "      width: 32px;\n",
              "    }\n",
              "\n",
              "    .colab-df-convert:hover {\n",
              "      background-color: #E2EBFA;\n",
              "      box-shadow: 0px 1px 2px rgba(60, 64, 67, 0.3), 0px 1px 3px 1px rgba(60, 64, 67, 0.15);\n",
              "      fill: #174EA6;\n",
              "    }\n",
              "\n",
              "    [theme=dark] .colab-df-convert {\n",
              "      background-color: #3B4455;\n",
              "      fill: #D2E3FC;\n",
              "    }\n",
              "\n",
              "    [theme=dark] .colab-df-convert:hover {\n",
              "      background-color: #434B5C;\n",
              "      box-shadow: 0px 1px 3px 1px rgba(0, 0, 0, 0.15);\n",
              "      filter: drop-shadow(0px 1px 2px rgba(0, 0, 0, 0.3));\n",
              "      fill: #FFFFFF;\n",
              "    }\n",
              "  </style>\n",
              "\n",
              "      <script>\n",
              "        const buttonEl =\n",
              "          document.querySelector('#df-189e5a03-f5af-40bc-af13-8cc210edf8d4 button.colab-df-convert');\n",
              "        buttonEl.style.display =\n",
              "          google.colab.kernel.accessAllowed ? 'block' : 'none';\n",
              "\n",
              "        async function convertToInteractive(key) {\n",
              "          const element = document.querySelector('#df-189e5a03-f5af-40bc-af13-8cc210edf8d4');\n",
              "          const dataTable =\n",
              "            await google.colab.kernel.invokeFunction('convertToInteractive',\n",
              "                                                     [key], {});\n",
              "          if (!dataTable) return;\n",
              "\n",
              "          const docLinkHtml = 'Like what you see? Visit the ' +\n",
              "            '<a target=\"_blank\" href=https://colab.research.google.com/notebooks/data_table.ipynb>data table notebook</a>'\n",
              "            + ' to learn more about interactive tables.';\n",
              "          element.innerHTML = '';\n",
              "          dataTable['output_type'] = 'display_data';\n",
              "          await google.colab.output.renderOutput(dataTable, element);\n",
              "          const docLink = document.createElement('div');\n",
              "          docLink.innerHTML = docLinkHtml;\n",
              "          element.appendChild(docLink);\n",
              "        }\n",
              "      </script>\n",
              "    </div>\n",
              "  </div>\n",
              "  "
            ]
          },
          "metadata": {},
          "execution_count": 10
        }
      ]
    },
    {
      "cell_type": "code",
      "source": [
        "Val_data= df[length_train:].iloc[:,:2]\n",
        "Val_data['Date']=pd.to_datetime(Val_data[\"Date\"])\n",
        "Val_data"
      ],
      "metadata": {
        "id": "ZMyS0Pt6_7Vv",
        "outputId": "1c3d62be-230d-4350-96b6-7279d586b56f",
        "colab": {
          "base_uri": "https://localhost:8080/",
          "height": 423
        }
      },
      "execution_count": 11,
      "outputs": [
        {
          "output_type": "execute_result",
          "data": {
            "text/plain": [
              "           Date        Open\n",
              "1184 2015-03-13  188.949997\n",
              "1185 2015-03-16  192.000000\n",
              "1186 2015-03-17  195.429993\n",
              "1187 2015-03-18  194.960007\n",
              "1188 2015-03-19  202.000000\n",
              "...         ...         ...\n",
              "1687 2017-03-13  244.820007\n",
              "1688 2017-03-14  246.110001\n",
              "1689 2017-03-15  257.000000\n",
              "1690 2017-03-16  262.399994\n",
              "1691 2017-03-17  264.000000\n",
              "\n",
              "[508 rows x 2 columns]"
            ],
            "text/html": [
              "\n",
              "  <div id=\"df-5c8d52ca-6507-42ce-92cc-baeb07ba8ed9\">\n",
              "    <div class=\"colab-df-container\">\n",
              "      <div>\n",
              "<style scoped>\n",
              "    .dataframe tbody tr th:only-of-type {\n",
              "        vertical-align: middle;\n",
              "    }\n",
              "\n",
              "    .dataframe tbody tr th {\n",
              "        vertical-align: top;\n",
              "    }\n",
              "\n",
              "    .dataframe thead th {\n",
              "        text-align: right;\n",
              "    }\n",
              "</style>\n",
              "<table border=\"1\" class=\"dataframe\">\n",
              "  <thead>\n",
              "    <tr style=\"text-align: right;\">\n",
              "      <th></th>\n",
              "      <th>Date</th>\n",
              "      <th>Open</th>\n",
              "    </tr>\n",
              "  </thead>\n",
              "  <tbody>\n",
              "    <tr>\n",
              "      <th>1184</th>\n",
              "      <td>2015-03-13</td>\n",
              "      <td>188.949997</td>\n",
              "    </tr>\n",
              "    <tr>\n",
              "      <th>1185</th>\n",
              "      <td>2015-03-16</td>\n",
              "      <td>192.000000</td>\n",
              "    </tr>\n",
              "    <tr>\n",
              "      <th>1186</th>\n",
              "      <td>2015-03-17</td>\n",
              "      <td>195.429993</td>\n",
              "    </tr>\n",
              "    <tr>\n",
              "      <th>1187</th>\n",
              "      <td>2015-03-18</td>\n",
              "      <td>194.960007</td>\n",
              "    </tr>\n",
              "    <tr>\n",
              "      <th>1188</th>\n",
              "      <td>2015-03-19</td>\n",
              "      <td>202.000000</td>\n",
              "    </tr>\n",
              "    <tr>\n",
              "      <th>...</th>\n",
              "      <td>...</td>\n",
              "      <td>...</td>\n",
              "    </tr>\n",
              "    <tr>\n",
              "      <th>1687</th>\n",
              "      <td>2017-03-13</td>\n",
              "      <td>244.820007</td>\n",
              "    </tr>\n",
              "    <tr>\n",
              "      <th>1688</th>\n",
              "      <td>2017-03-14</td>\n",
              "      <td>246.110001</td>\n",
              "    </tr>\n",
              "    <tr>\n",
              "      <th>1689</th>\n",
              "      <td>2017-03-15</td>\n",
              "      <td>257.000000</td>\n",
              "    </tr>\n",
              "    <tr>\n",
              "      <th>1690</th>\n",
              "      <td>2017-03-16</td>\n",
              "      <td>262.399994</td>\n",
              "    </tr>\n",
              "    <tr>\n",
              "      <th>1691</th>\n",
              "      <td>2017-03-17</td>\n",
              "      <td>264.000000</td>\n",
              "    </tr>\n",
              "  </tbody>\n",
              "</table>\n",
              "<p>508 rows × 2 columns</p>\n",
              "</div>\n",
              "      <button class=\"colab-df-convert\" onclick=\"convertToInteractive('df-5c8d52ca-6507-42ce-92cc-baeb07ba8ed9')\"\n",
              "              title=\"Convert this dataframe to an interactive table.\"\n",
              "              style=\"display:none;\">\n",
              "        \n",
              "  <svg xmlns=\"http://www.w3.org/2000/svg\" height=\"24px\"viewBox=\"0 0 24 24\"\n",
              "       width=\"24px\">\n",
              "    <path d=\"M0 0h24v24H0V0z\" fill=\"none\"/>\n",
              "    <path d=\"M18.56 5.44l.94 2.06.94-2.06 2.06-.94-2.06-.94-.94-2.06-.94 2.06-2.06.94zm-11 1L8.5 8.5l.94-2.06 2.06-.94-2.06-.94L8.5 2.5l-.94 2.06-2.06.94zm10 10l.94 2.06.94-2.06 2.06-.94-2.06-.94-.94-2.06-.94 2.06-2.06.94z\"/><path d=\"M17.41 7.96l-1.37-1.37c-.4-.4-.92-.59-1.43-.59-.52 0-1.04.2-1.43.59L10.3 9.45l-7.72 7.72c-.78.78-.78 2.05 0 2.83L4 21.41c.39.39.9.59 1.41.59.51 0 1.02-.2 1.41-.59l7.78-7.78 2.81-2.81c.8-.78.8-2.07 0-2.86zM5.41 20L4 18.59l7.72-7.72 1.47 1.35L5.41 20z\"/>\n",
              "  </svg>\n",
              "      </button>\n",
              "      \n",
              "  <style>\n",
              "    .colab-df-container {\n",
              "      display:flex;\n",
              "      flex-wrap:wrap;\n",
              "      gap: 12px;\n",
              "    }\n",
              "\n",
              "    .colab-df-convert {\n",
              "      background-color: #E8F0FE;\n",
              "      border: none;\n",
              "      border-radius: 50%;\n",
              "      cursor: pointer;\n",
              "      display: none;\n",
              "      fill: #1967D2;\n",
              "      height: 32px;\n",
              "      padding: 0 0 0 0;\n",
              "      width: 32px;\n",
              "    }\n",
              "\n",
              "    .colab-df-convert:hover {\n",
              "      background-color: #E2EBFA;\n",
              "      box-shadow: 0px 1px 2px rgba(60, 64, 67, 0.3), 0px 1px 3px 1px rgba(60, 64, 67, 0.15);\n",
              "      fill: #174EA6;\n",
              "    }\n",
              "\n",
              "    [theme=dark] .colab-df-convert {\n",
              "      background-color: #3B4455;\n",
              "      fill: #D2E3FC;\n",
              "    }\n",
              "\n",
              "    [theme=dark] .colab-df-convert:hover {\n",
              "      background-color: #434B5C;\n",
              "      box-shadow: 0px 1px 3px 1px rgba(0, 0, 0, 0.15);\n",
              "      filter: drop-shadow(0px 1px 2px rgba(0, 0, 0, 0.3));\n",
              "      fill: #FFFFFF;\n",
              "    }\n",
              "  </style>\n",
              "\n",
              "      <script>\n",
              "        const buttonEl =\n",
              "          document.querySelector('#df-5c8d52ca-6507-42ce-92cc-baeb07ba8ed9 button.colab-df-convert');\n",
              "        buttonEl.style.display =\n",
              "          google.colab.kernel.accessAllowed ? 'block' : 'none';\n",
              "\n",
              "        async function convertToInteractive(key) {\n",
              "          const element = document.querySelector('#df-5c8d52ca-6507-42ce-92cc-baeb07ba8ed9');\n",
              "          const dataTable =\n",
              "            await google.colab.kernel.invokeFunction('convertToInteractive',\n",
              "                                                     [key], {});\n",
              "          if (!dataTable) return;\n",
              "\n",
              "          const docLinkHtml = 'Like what you see? Visit the ' +\n",
              "            '<a target=\"_blank\" href=https://colab.research.google.com/notebooks/data_table.ipynb>data table notebook</a>'\n",
              "            + ' to learn more about interactive tables.';\n",
              "          element.innerHTML = '';\n",
              "          dataTable['output_type'] = 'display_data';\n",
              "          await google.colab.output.renderOutput(dataTable, element);\n",
              "          const docLink = document.createElement('div');\n",
              "          docLink.innerHTML = docLinkHtml;\n",
              "          element.appendChild(docLink);\n",
              "        }\n",
              "      </script>\n",
              "    </div>\n",
              "  </div>\n",
              "  "
            ]
          },
          "metadata": {},
          "execution_count": 11
        }
      ]
    },
    {
      "cell_type": "code",
      "source": [
        "dataset_train= train_data.Open.values\n",
        "dataset_train.shape\n"
      ],
      "metadata": {
        "id": "P-LT6qPJ_9pw",
        "colab": {
          "base_uri": "https://localhost:8080/"
        },
        "outputId": "02107d41-d31d-481d-be36-b3990d539251"
      },
      "execution_count": 14,
      "outputs": [
        {
          "output_type": "execute_result",
          "data": {
            "text/plain": [
              "(1184,)"
            ]
          },
          "metadata": {},
          "execution_count": 14
        }
      ]
    },
    {
      "cell_type": "code",
      "source": [
        "#We will use numpy array to reshape\n",
        "dataset_train= np.reshape(dataset_train,(-1,1))\n",
        "dataset_train.shape\n",
        "\n"
      ],
      "metadata": {
        "colab": {
          "base_uri": "https://localhost:8080/"
        },
        "id": "XkaY_PRizB3z",
        "outputId": "be112908-3a82-4c76-cb73-1d458079189b"
      },
      "execution_count": 15,
      "outputs": [
        {
          "output_type": "execute_result",
          "data": {
            "text/plain": [
              "(1184, 1)"
            ]
          },
          "metadata": {},
          "execution_count": 15
        }
      ]
    },
    {
      "cell_type": "code",
      "source": [
        "#Normalizing the data"
      ],
      "metadata": {
        "id": "N1m-NwJizVSN"
      },
      "execution_count": null,
      "outputs": []
    },
    {
      "cell_type": "code",
      "source": [
        "from sklearn.preprocessing import MinMaxScaler\n",
        "scaler =MinMaxScaler(feature_range=(0,2))\n",
        "\n",
        "#scalaing the data\n",
        "dataset_train_scaled = scaler.fit_transform(dataset_train)\n",
        "print(dataset_train.shape)\n",
        "print(dataset_train_scaled.shape)"
      ],
      "metadata": {
        "colab": {
          "base_uri": "https://localhost:8080/"
        },
        "id": "WFmZU9H31phU",
        "outputId": "f6fac246-e032-458c-bf41-b8da0d247950"
      },
      "execution_count": 17,
      "outputs": [
        {
          "output_type": "stream",
          "name": "stdout",
          "text": [
            "(1184, 1)\n",
            "(1184, 1)\n"
          ]
        }
      ]
    },
    {
      "cell_type": "code",
      "source": [
        "print(dataset_train)\n",
        "print(dataset_train_scaled)"
      ],
      "metadata": {
        "colab": {
          "base_uri": "https://localhost:8080/"
        },
        "id": "A9k-89c32rr9",
        "outputId": "ee9780b8-e7d0-4bb9-b9e3-23936d7fc119"
      },
      "execution_count": 18,
      "outputs": [
        {
          "output_type": "stream",
          "name": "stdout",
          "text": [
            "[[ 19.      ]\n",
            " [ 25.790001]\n",
            " [ 25.      ]\n",
            " ...\n",
            " [188.460007]\n",
            " [191.149994]\n",
            " [193.75    ]]\n",
            "[[0.02106582]\n",
            " [0.07107871]\n",
            " [0.06525983]\n",
            " ...\n",
            " [1.26925201]\n",
            " [1.28906556]\n",
            " [1.30821634]]\n"
          ]
        }
      ]
    },
    {
      "cell_type": "code",
      "source": [
        "print(max(dataset_train))\n",
        "print(dataset_train_scaled.shape)"
      ],
      "metadata": {
        "colab": {
          "base_uri": "https://localhost:8080/"
        },
        "id": "NqCPmHki20OS",
        "outputId": "b55bc087-43b4-46fd-ce25-cf0e8c65614b"
      },
      "execution_count": 20,
      "outputs": [
        {
          "output_type": "stream",
          "name": "stdout",
          "text": [
            "[287.670013]\n",
            "(1184, 1)\n"
          ]
        }
      ]
    },
    {
      "cell_type": "code",
      "source": [
        "plt.subplots(figsize=(15,6))\n",
        "plt.plot(dataset_train_scaled)\n",
        "plt.xlabel=(\"Days\")\n",
        "plt.ylabel=(\"Open Price\")\n",
        "plt.show()"
      ],
      "metadata": {
        "colab": {
          "base_uri": "https://localhost:8080/",
          "height": 374
        },
        "id": "mGn7PkRm2767",
        "outputId": "bd1de397-dd19-4b81-9947-8ada00f55da8"
      },
      "execution_count": 24,
      "outputs": [
        {
          "output_type": "display_data",
          "data": {
            "text/plain": [
              "<Figure size 1080x432 with 1 Axes>"
            ],
            "image/png": "[encoded data removed]"
          },
          "metadata": {
            "needs_background": "light"
          }
        }
      ]
    },
    {
      "cell_type": "code",
      "source": [
        "X_train = [] # We created List here will convert to NP array after loop\n",
        "Y_train = []\n",
        "\n",
        "time_step = 50\n",
        "for i in range (time_step, length_train):\n",
        "  X_train.append(dataset_train_scaled[i-time_step:i,0])\n",
        "  Y_train.append(dataset_train_scaled[i,0])\n",
        "\n"
      ],
      "metadata": {
        "id": "oX9AB1Ve5MIr"
      },
      "execution_count": 27,
      "outputs": []
    },
    {
      "cell_type": "code",
      "source": [
        "print(len(X_train[1]))"
      ],
      "metadata": {
        "colab": {
          "base_uri": "https://localhost:8080/"
        },
        "id": "hHHYPPJY7anc",
        "outputId": "8a17b3e0-37c7-44c2-8d32-f041fcd13591"
      },
      "execution_count": 29,
      "outputs": [
        {
          "output_type": "stream",
          "name": "stdout",
          "text": [
            "50\n"
          ]
        }
      ]
    },
    {
      "cell_type": "code",
      "source": [
        "X_train, Y_train = np.array(X_train) ,np.array(Y_train)"
      ],
      "metadata": {
        "id": "bbpLJQRY6SOk"
      },
      "execution_count": 30,
      "outputs": []
    },
    {
      "cell_type": "code",
      "source": [
        "X_train.shape\n"
      ],
      "metadata": {
        "colab": {
          "base_uri": "https://localhost:8080/"
        },
        "id": "DaMa5jeh8VDJ",
        "outputId": "d659e5e9-10bf-4f67-f802-ee70e7e54a25"
      },
      "execution_count": 33,
      "outputs": [
        {
          "output_type": "execute_result",
          "data": {
            "text/plain": [
              "(1134, 50)"
            ]
          },
          "metadata": {},
          "execution_count": 33
        }
      ]
    },
    {
      "cell_type": "code",
      "source": [
        "Y_train.shape"
      ],
      "metadata": {
        "colab": {
          "base_uri": "https://localhost:8080/"
        },
        "id": "BIz673mm8hRE",
        "outputId": "319234bd-b5ae-4767-f605-fcbfd162a13a"
      },
      "execution_count": 34,
      "outputs": [
        {
          "output_type": "execute_result",
          "data": {
            "text/plain": [
              "(1134,)"
            ]
          },
          "metadata": {},
          "execution_count": 34
        }
      ]
    },
    {
      "cell_type": "code",
      "source": [
        "X_train = np.reshape(X_train, (X_train.shape[0],X_train.shape[1],1))\n",
        "Y_train = np.reshape (Y_train, (Y_train.shape[0],1))\n",
        "print(X_train.shape)\n",
        "print(Y_train.shape)"
      ],
      "metadata": {
        "colab": {
          "base_uri": "https://localhost:8080/"
        },
        "id": "c6pe-EbM9Lz8",
        "outputId": "bbe4dd3c-cabf-471a-9747-745fb2641a1a"
      },
      "execution_count": 41,
      "outputs": [
        {
          "output_type": "stream",
          "name": "stdout",
          "text": [
            "(1134, 50, 1)\n",
            "(1134, 1)\n"
          ]
        }
      ]
    },
    {
      "cell_type": "code",
      "source": [
        "from keras.models import Sequential \n",
        "from keras.layers import SimpleRNN\n",
        "from keras.layers import Dense\n",
        "from keras.layers import Dropout\n",
        "\n"
      ],
      "metadata": {
        "id": "dVeGuYPa9w6U"
      },
      "execution_count": 40,
      "outputs": []
    },
    {
      "cell_type": "code",
      "source": [
        "#initialize the RNN\n",
        "regressor = Sequential()\n",
        "\n",
        "#Adding the first RNN layer and then use dropout on it to regularize\n",
        "regressor.add(\n",
        "    SimpleRNN(units = 50,\n",
        "              activation='tanh',\n",
        "              return_sequences= True,\n",
        "              input_shape = (X_train.shape[1],1))\n",
        "            )\n",
        "regressor.add(\n",
        "    Dropout(0.2)\n",
        ")\n",
        "\n",
        "#Adding the second RNN layer and then use dropout on it to regularize\n",
        "regressor.add(\n",
        "    SimpleRNN(units = 50,\n",
        "              activation='tanh',\n",
        "              return_sequences= True,\n",
        "             )\n",
        "            )\n",
        "regressor.add(\n",
        "    Dropout(0.2)\n",
        ")\n",
        "\n",
        "#Adding the Third RNN layer and then use dropout on it to regularize\n",
        "regressor.add(\n",
        "    SimpleRNN(units = 50,\n",
        "              activation='tanh',\n",
        "              return_sequences= True,\n",
        "             )\n",
        "            )\n",
        "regressor.add(\n",
        "    Dropout(0.2)\n",
        ")\n",
        "\n",
        "#Adding the Fourth RNN layer and then use dropout on it to regularize\n",
        "regressor.add(\n",
        "    SimpleRNN(units = 50,\n",
        "              activation='tanh',\n",
        "              return_sequences= True,\n",
        "             )\n",
        "            )\n",
        "regressor.add(\n",
        "    Dropout(0.2)\n",
        ")\n",
        "\n",
        "# adding the output layer\n",
        "regressor.add(Dense(units = 1))\n"
      ],
      "metadata": {
        "id": "xFcAd6dH-0Kn"
      },
      "execution_count": 42,
      "outputs": []
    },
    {
      "cell_type": "code",
      "source": [
        "#compliling\n",
        "regressor.compile (\n",
        "    optimizer = \"adam\",\n",
        "    loss = \"mean_squared_error\",\n",
        "    metrics = [\"accuracy\"]\n",
        ")\n",
        "history = regressor.fit(X_train, Y_train, epochs=50, batch_size=32)"
      ],
      "metadata": {
        "colab": {
          "base_uri": "https://localhost:8080/"
        },
        "id": "P_li853PDIAY",
        "outputId": "e69fecdf-f3db-4209-86be-ab3c924aea40"
      },
      "execution_count": 43,
      "outputs": [
        {
          "output_type": "stream",
          "name": "stdout",
          "text": [
            "Epoch 1/50\n",
            "36/36 [==============================] - 7s 61ms/step - loss: 0.2562 - accuracy: 0.0000e+00\n",
            "Epoch 2/50\n",
            "36/36 [==============================] - 2s 65ms/step - loss: 0.1011 - accuracy: 0.0000e+00\n",
            "Epoch 3/50\n",
            "36/36 [==============================] - 3s 88ms/step - loss: 0.0736 - accuracy: 0.0000e+00\n",
            "Epoch 4/50\n",
            "36/36 [==============================] - 2s 60ms/step - loss: 0.0604 - accuracy: 0.0000e+00\n",
            "Epoch 5/50\n",
            "36/36 [==============================] - 2s 59ms/step - loss: 0.0537 - accuracy: 0.0000e+00\n",
            "Epoch 6/50\n",
            "36/36 [==============================] - 2s 59ms/step - loss: 0.0511 - accuracy: 0.0000e+00\n",
            "Epoch 7/50\n",
            "36/36 [==============================] - 2s 59ms/step - loss: 0.0437 - accuracy: 0.0000e+00\n",
            "Epoch 8/50\n",
            "36/36 [==============================] - 3s 95ms/step - loss: 0.0414 - accuracy: 0.0000e+00\n",
            "Epoch 9/50\n",
            "36/36 [==============================] - 2s 62ms/step - loss: 0.0389 - accuracy: 0.0000e+00\n",
            "Epoch 10/50\n",
            "36/36 [==============================] - 2s 61ms/step - loss: 0.0372 - accuracy: 0.0000e+00\n",
            "Epoch 11/50\n",
            "36/36 [==============================] - 2s 61ms/step - loss: 0.0349 - accuracy: 0.0000e+00\n",
            "Epoch 12/50\n",
            "36/36 [==============================] - 2s 61ms/step - loss: 0.0330 - accuracy: 0.0000e+00\n",
            "Epoch 13/50\n",
            "36/36 [==============================] - 3s 87ms/step - loss: 0.0322 - accuracy: 0.0000e+00\n",
            "Epoch 14/50\n",
            "36/36 [==============================] - 3s 94ms/step - loss: 0.0340 - accuracy: 0.0000e+00\n",
            "Epoch 15/50\n",
            "36/36 [==============================] - 3s 75ms/step - loss: 0.0314 - accuracy: 0.0000e+00\n",
            "Epoch 16/50\n",
            "36/36 [==============================] - 2s 62ms/step - loss: 0.0295 - accuracy: 0.0000e+00\n",
            "Epoch 17/50\n",
            "36/36 [==============================] - 2s 62ms/step - loss: 0.0317 - accuracy: 0.0000e+00\n",
            "Epoch 18/50\n",
            "36/36 [==============================] - 3s 97ms/step - loss: 0.0293 - accuracy: 0.0000e+00\n",
            "Epoch 19/50\n",
            "36/36 [==============================] - 2s 61ms/step - loss: 0.0289 - accuracy: 0.0000e+00\n",
            "Epoch 20/50\n",
            "36/36 [==============================] - 2s 62ms/step - loss: 0.0270 - accuracy: 0.0000e+00\n",
            "Epoch 21/50\n",
            "36/36 [==============================] - 2s 61ms/step - loss: 0.0271 - accuracy: 0.0000e+00\n",
            "Epoch 22/50\n",
            "36/36 [==============================] - 2s 60ms/step - loss: 0.0272 - accuracy: 0.0000e+00\n",
            "Epoch 23/50\n",
            "36/36 [==============================] - 3s 81ms/step - loss: 0.0265 - accuracy: 0.0000e+00\n",
            "Epoch 24/50\n",
            "36/36 [==============================] - 3s 73ms/step - loss: 0.0257 - accuracy: 0.0000e+00\n",
            "Epoch 25/50\n",
            "36/36 [==============================] - 2s 61ms/step - loss: 0.0267 - accuracy: 0.0000e+00\n",
            "Epoch 26/50\n",
            "36/36 [==============================] - 2s 62ms/step - loss: 0.0265 - accuracy: 0.0000e+00\n",
            "Epoch 27/50\n",
            "36/36 [==============================] - 2s 61ms/step - loss: 0.0261 - accuracy: 0.0000e+00\n",
            "Epoch 28/50\n",
            "36/36 [==============================] - 2s 67ms/step - loss: 0.0245 - accuracy: 0.0000e+00\n",
            "Epoch 29/50\n",
            "36/36 [==============================] - 3s 89ms/step - loss: 0.0251 - accuracy: 0.0000e+00\n",
            "Epoch 30/50\n",
            "36/36 [==============================] - 2s 61ms/step - loss: 0.0242 - accuracy: 0.0000e+00\n",
            "Epoch 31/50\n",
            "36/36 [==============================] - 2s 57ms/step - loss: 0.0259 - accuracy: 0.0000e+00\n",
            "Epoch 32/50\n",
            "36/36 [==============================] - 2s 59ms/step - loss: 0.0262 - accuracy: 0.0000e+00\n",
            "Epoch 33/50\n",
            "36/36 [==============================] - 2s 59ms/step - loss: 0.0240 - accuracy: 0.0000e+00\n",
            "Epoch 34/50\n",
            "36/36 [==============================] - 3s 95ms/step - loss: 0.0239 - accuracy: 0.0000e+00\n",
            "Epoch 35/50\n",
            "36/36 [==============================] - 2s 63ms/step - loss: 0.0240 - accuracy: 0.0000e+00\n",
            "Epoch 36/50\n",
            "36/36 [==============================] - 2s 60ms/step - loss: 0.0235 - accuracy: 0.0000e+00\n",
            "Epoch 37/50\n",
            "36/36 [==============================] - 2s 61ms/step - loss: 0.0251 - accuracy: 0.0000e+00\n",
            "Epoch 38/50\n",
            "36/36 [==============================] - 2s 63ms/step - loss: 0.0238 - accuracy: 0.0000e+00\n",
            "Epoch 39/50\n",
            "36/36 [==============================] - 3s 79ms/step - loss: 0.0238 - accuracy: 0.0000e+00\n",
            "Epoch 40/50\n",
            "36/36 [==============================] - 4s 100ms/step - loss: 0.0232 - accuracy: 0.0000e+00\n",
            "Epoch 41/50\n",
            "36/36 [==============================] - 2s 62ms/step - loss: 0.0263 - accuracy: 0.0000e+00\n",
            "Epoch 42/50\n",
            "36/36 [==============================] - 2s 60ms/step - loss: 0.0244 - accuracy: 0.0000e+00\n",
            "Epoch 43/50\n",
            "36/36 [==============================] - 2s 59ms/step - loss: 0.0239 - accuracy: 0.0000e+00\n",
            "Epoch 44/50\n",
            "36/36 [==============================] - 3s 75ms/step - loss: 0.0237 - accuracy: 0.0000e+00\n",
            "Epoch 45/50\n",
            "36/36 [==============================] - 3s 79ms/step - loss: 0.0231 - accuracy: 0.0000e+00\n",
            "Epoch 46/50\n",
            "36/36 [==============================] - 2s 64ms/step - loss: 0.0236 - accuracy: 0.0000e+00\n",
            "Epoch 47/50\n",
            "36/36 [==============================] - 2s 61ms/step - loss: 0.0233 - accuracy: 0.0000e+00\n",
            "Epoch 48/50\n",
            "36/36 [==============================] - 2s 61ms/step - loss: 0.0238 - accuracy: 0.0000e+00\n",
            "Epoch 49/50\n",
            "36/36 [==============================] - 2s 61ms/step - loss: 0.0232 - accuracy: 0.0000e+00\n",
            "Epoch 50/50\n",
            "36/36 [==============================] - 3s 96ms/step - loss: 0.0235 - accuracy: 0.0000e+00\n"
          ]
        }
      ]
    },
    {
      "cell_type": "code",
      "source": [
        "history.history[\"loss\"]"
      ],
      "metadata": {
        "colab": {
          "base_uri": "https://localhost:8080/"
        },
        "id": "YisawtV5Etbv",
        "outputId": "875f86fc-a551-485a-a15f-a2f53794f301"
      },
      "execution_count": 44,
      "outputs": [
        {
          "output_type": "execute_result",
          "data": {
            "text/plain": [
              "[0.2562365233898163,\n",
              " 0.10110194981098175,\n",
              " 0.07361572235822678,\n",
              " 0.0604141540825367,\n",
              " 0.053683724254369736,\n",
              " 0.05108633264899254,\n",
              " 0.0437253974378109,\n",
              " 0.04142729938030243,\n",
              " 0.03886505588889122,\n",
              " 0.03715382516384125,\n",
              " 0.03487961366772652,\n",
              " 0.03302755579352379,\n",
              " 0.0322151854634285,\n",
              " 0.03402119129896164,\n",
              " 0.03139467164874077,\n",
              " 0.0295259952545166,\n",
              " 0.031659599393606186,\n",
              " 0.029311807826161385,\n",
              " 0.028869932517409325,\n",
              " 0.027023911476135254,\n",
              " 0.027091413736343384,\n",
              " 0.027234381064772606,\n",
              " 0.026540705934166908,\n",
              " 0.025733787566423416,\n",
              " 0.026660233736038208,\n",
              " 0.026541437953710556,\n",
              " 0.026090890169143677,\n",
              " 0.02454988844692707,\n",
              " 0.025061966851353645,\n",
              " 0.024184739217162132,\n",
              " 0.02585550583899021,\n",
              " 0.026181494817137718,\n",
              " 0.023994620889425278,\n",
              " 0.023887457326054573,\n",
              " 0.024024982005357742,\n",
              " 0.0235025305300951,\n",
              " 0.02505630813539028,\n",
              " 0.023819005116820335,\n",
              " 0.023769494146108627,\n",
              " 0.023157548159360886,\n",
              " 0.026336107403039932,\n",
              " 0.024361127987504005,\n",
              " 0.023861218243837357,\n",
              " 0.02371867001056671,\n",
              " 0.02314893528819084,\n",
              " 0.02362246625125408,\n",
              " 0.023288127034902573,\n",
              " 0.023815032094717026,\n",
              " 0.02321438677608967,\n",
              " 0.023524243384599686]"
            ]
          },
          "metadata": {},
          "execution_count": 44
        }
      ]
    }
  ]
}